{
 "cells": [
  {
   "cell_type": "code",
   "execution_count": 1,
   "metadata": {},
   "outputs": [],
   "source": [
    "# Import the calculator function\n",
    "from egfr import ckdepi"
   ]
  },
  {
   "cell_type": "code",
   "execution_count": 2,
   "metadata": {},
   "outputs": [],
   "source": [
    "# Make up parameters for input\n",
    "scr = 1.65 # mg/dL\n",
    "age = 25 # years\n",
    "is_female = True\n",
    "is_black = True"
   ]
  },
  {
   "cell_type": "code",
   "execution_count": 3,
   "metadata": {},
   "outputs": [
    {
     "output_type": "execute_result",
     "data": {
      "text/plain": "49.49564416974323"
     },
     "metadata": {},
     "execution_count": 3
    }
   ],
   "source": [
    "# Calculate estimated GFR in mL/min per 1.73 m2\n",
    "ckdepi(scr, age, is_female, is_black)"
   ]
  }
 ],
 "metadata": {
  "language_info": {
   "codemirror_mode": {
    "name": "ipython",
    "version": 3
   },
   "file_extension": ".py",
   "mimetype": "text/x-python",
   "name": "python",
   "nbconvert_exporter": "python",
   "pygments_lexer": "ipython3",
   "version": "3.7.7-final"
  },
  "orig_nbformat": 2,
  "kernelspec": {
   "name": "python37764bitbase2ac2condadb04a9078bd949348a7f79e339a5dafd",
   "display_name": "Python 3.7.7 64-bit ('base2ac2': conda)"
  }
 },
 "nbformat": 4,
 "nbformat_minor": 2
}
